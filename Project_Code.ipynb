{
 "cells": [
  {
   "cell_type": "code",
   "execution_count": 1,
   "metadata": {},
   "outputs": [],
   "source": [
    "import pandas as pd\n",
    "from sklearn.model_selection import train_test_split\n",
    "from sklearn.preprocessing import LabelEncoder\n",
    "from sklearn.metrics import classification_report, confusion_matrix\n",
    "from sklearn.ensemble import GradientBoostingClassifier"
   ]
  },
  {
   "cell_type": "code",
   "execution_count": 2,
   "metadata": {},
   "outputs": [],
   "source": [
    "le = LabelEncoder()"
   ]
  },
  {
   "cell_type": "code",
   "execution_count": 3,
   "metadata": {},
   "outputs": [],
   "source": [
    "wellbeing_df = pd.read_csv('AllAssessment-updated - Copy.csv')\n",
    "df_for_le = pd.read_csv('AllAssessment-updated - Copy.csv')"
   ]
  },
  {
   "cell_type": "code",
   "execution_count": 4,
   "metadata": {},
   "outputs": [],
   "source": [
    "#df_for_le.Status = le.fit_transform(df_for_le.Status)\n",
    "#df_for_le.Status"
   ]
  },
  {
   "cell_type": "code",
   "execution_count": 5,
   "metadata": {},
   "outputs": [],
   "source": [
    "input_cols = wellbeing_df.drop(['Gender','Age (Yrs)','Patient Name','NHS ID','Status','Performed By','Performed Date'], \n",
    "                               axis = 1).columns"
   ]
  },
  {
   "cell_type": "code",
   "execution_count": 6,
   "metadata": {},
   "outputs": [],
   "source": [
    "training_input_data = wellbeing_df[input_cols]\n",
    "target_var = wellbeing_df.Status\n",
    "#input_data.head()\n",
    "#training_input_data.columns"
   ]
  },
  {
   "cell_type": "code",
   "execution_count": 9,
   "metadata": {},
   "outputs": [],
   "source": [
    "le_inputs= training_input_data.apply(le.fit_transform)\n",
    "le_mapped_values =  {}\n",
    "for col in list(le_inputs.columns):\n",
    "    le.fit(training_input_data[col])\n",
    "    le_name_mapping = dict(zip(le.classes_, le.transform(le.classes_)))\n",
    "    le_mapped_values[col] = le_name_mapping\n",
    "#le_mapped_values"
   ]
  },
  {
   "cell_type": "code",
   "execution_count": 9,
   "metadata": {},
   "outputs": [],
   "source": [
    "x_train, x_test, y_train, y_test = train_test_split(le_inputs, target_var, test_size = 0.3)"
   ]
  },
  {
   "cell_type": "code",
   "execution_count": 10,
   "metadata": {},
   "outputs": [
    {
     "data": {
      "text/plain": [
       "85.77817531305904"
      ]
     },
     "execution_count": 10,
     "metadata": {},
     "output_type": "execute_result"
    }
   ],
   "source": [
    "from sklearn.tree import DecisionTreeClassifier\n",
    "model = DecisionTreeClassifier()\n",
    "model.fit(x_train, y_train)\n",
    "model.score(x_test, y_test)*100\n",
    "#model.score(x_train, y_train)*100"
   ]
  },
  {
   "cell_type": "code",
   "execution_count": 11,
   "metadata": {},
   "outputs": [],
   "source": [
    "import pickle\n",
    "pickle.dump(model, open('final_prediction_dtc.pickle', 'wb'))"
   ]
  },
  {
   "cell_type": "code",
   "execution_count": 12,
   "metadata": {},
   "outputs": [
    {
     "data": {
      "text/plain": [
       "88.37209302325581"
      ]
     },
     "execution_count": 12,
     "metadata": {},
     "output_type": "execute_result"
    }
   ],
   "source": [
    "from sklearn.ensemble import RandomForestClassifier\n",
    "model = RandomForestClassifier(n_estimators=100)\n",
    "model.fit(x_train, y_train)\n",
    "model.score(x_test, y_test)*100\n",
    "#model.score(x_train, y_train)*100"
   ]
  },
  {
   "cell_type": "code",
   "execution_count": 13,
   "metadata": {},
   "outputs": [],
   "source": [
    "pickle.dump(model, open('final_prediction_rfc.pickle', 'wb'))"
   ]
  },
  {
   "cell_type": "code",
   "execution_count": 11,
   "metadata": {},
   "outputs": [],
   "source": [
    "patient_input = {\n",
    "\t'Breathing today': 'Very Bad',\n",
    "\t'Breathing affecting daily activity': 'Much',\n",
    "\t'Breathing affecting physical activity': 'Very Much',\n",
    "\t'Cough today': 'Worse than usual',\n",
    "\t'Daily Sputum production': 'Up to 15mls (1 tablespoon)',\n",
    "\t'Colour of Sputum': 'Yellowish',\n",
    "\t'How much tired today?': 'Worse than usual',\n",
    "\t'Ankle swelling today?': 'NO',\n",
    "\t'Chest Pain today?': 'YES',\n",
    "\t'Heartburn today?': 'NO',\n",
    "\t'Exacerbation of COPD': 'NO',\n",
    "\t'Receiving treatment for COPD flare-up': 'NO'\n",
    "}"
   ]
  },
  {
   "cell_type": "code",
   "execution_count": 12,
   "metadata": {},
   "outputs": [],
   "source": [
    "lst = []\n",
    "for k,v in patient_input.items():\n",
    "    lst.append(le_mapped_values[k][v])\n",
    "#lst"
   ]
  },
  {
   "cell_type": "code",
   "execution_count": 13,
   "metadata": {},
   "outputs": [
    {
     "data": {
      "text/plain": [
       "array(['Stable'], dtype=object)"
      ]
     },
     "execution_count": 13,
     "metadata": {},
     "output_type": "execute_result"
    }
   ],
   "source": [
    "model.predict([lst])"
   ]
  },
  {
   "cell_type": "code",
   "execution_count": 14,
   "metadata": {},
   "outputs": [
    {
     "name": "stdout",
     "output_type": "stream",
     "text": [
      "Learning rate:  0.05\n",
      "Accuracy score (training): 0.848\n",
      "Accuracy score (validation): 0.853\n",
      "Learning rate:  0.075\n",
      "Accuracy score (training): 0.859\n",
      "Accuracy score (validation): 0.856\n",
      "Learning rate:  0.1\n",
      "Accuracy score (training): 0.867\n",
      "Accuracy score (validation): 0.860\n",
      "Learning rate:  0.25\n",
      "Accuracy score (training): 0.879\n",
      "Accuracy score (validation): 0.870\n",
      "Learning rate:  0.5\n",
      "Accuracy score (training): 0.886\n",
      "Accuracy score (validation): 0.871\n",
      "Learning rate:  0.75\n",
      "Accuracy score (training): 0.879\n",
      "Accuracy score (validation): 0.866\n",
      "Learning rate:  1\n",
      "Accuracy score (training): 0.843\n",
      "Accuracy score (validation): 0.818\n"
     ]
    }
   ],
   "source": [
    "lr_list = [0.05, 0.075, 0.1, 0.25, 0.5, 0.75, 1]\n",
    "\n",
    "for learning_rate in lr_list:\n",
    "    gb_clf = GradientBoostingClassifier(n_estimators=20, learning_rate=learning_rate, max_features=2, max_depth=2, random_state=0)\n",
    "    gb_clf.fit(x_train, y_train)\n",
    "    print(\"Learning rate: \", learning_rate)\n",
    "    print(\"Accuracy score (training): {0:.3f}\".format(gb_clf.score(x_train, y_train)))\n",
    "    print(\"Accuracy score (validation): {0:.3f}\".format(gb_clf.score(x_test, y_test)))"
   ]
  },
  {
   "cell_type": "code",
   "execution_count": null,
   "metadata": {},
   "outputs": [],
   "source": []
  }
 ],
 "metadata": {
  "kernelspec": {
   "display_name": "Python 3",
   "language": "python",
   "name": "python3"
  },
  "language_info": {
   "codemirror_mode": {
    "name": "ipython",
    "version": 3
   },
   "file_extension": ".py",
   "mimetype": "text/x-python",
   "name": "python",
   "nbconvert_exporter": "python",
   "pygments_lexer": "ipython3",
   "version": "3.7.4"
  }
 },
 "nbformat": 4,
 "nbformat_minor": 2
}
